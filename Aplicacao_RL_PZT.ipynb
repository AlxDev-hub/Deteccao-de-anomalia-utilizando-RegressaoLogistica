{
 "cells": [
  {
   "cell_type": "markdown",
   "metadata": {
    "id": "6LO6j9N_Mr5H"
   },
   "source": [
    "# Aplicação de detecção de anomalia utilizando Regressão Logística\n",
    "\n"
   ]
  },
  {
   "cell_type": "code",
   "execution_count": null,
   "metadata": {
    "id": "Q5w-fj6ll-pW"
   },
   "outputs": [],
   "source": [
    "#bibliotecas utilizadas\n",
    "import numpy as np\n",
    "import pandas as pd\n",
    "from sklearn.linear_model import LogisticRegression\n",
    "from sklearn.metrics import confusion_matrix\n",
    "import seaborn as sns"
   ]
  },
  {
   "cell_type": "code",
   "execution_count": null,
   "metadata": {
    "colab": {
     "base_uri": "https://localhost:8080/",
     "height": 488
    },
    "id": "9KoPHsiqM5qB",
    "outputId": "00560d8b-1bd0-4c94-a366-e425d2ec3bba",
    "scrolled": false
   },
   "outputs": [],
   "source": [
    "#Importe do dataset\n",
    "dataset = pd.read_excel(\"pzt2.xlsx\", header=None)\n",
    "\n",
    "display(dataset)"
   ]
  },
  {
   "cell_type": "code",
   "execution_count": null,
   "metadata": {
    "colab": {
     "base_uri": "https://localhost:8080/",
     "height": 739
    },
    "id": "EyRd_dy1M_7r",
    "outputId": "7e480fe6-bdd0-4ae3-a235-3440f8d09dc2",
    "scrolled": false
   },
   "outputs": [],
   "source": [
    "#Tratamento do dataset - Transpor dados\n",
    "data = dataset.T\n",
    "\n",
    "display(data)"
   ]
  },
  {
   "cell_type": "code",
   "execution_count": null,
   "metadata": {},
   "outputs": [],
   "source": [
    "#Tratamento do dataset - Remover linha da frequencia \"0\"\n",
    "new_data = data.drop(0, axis=0)\n",
    "\n",
    "display(new_data)"
   ]
  },
  {
   "cell_type": "code",
   "execution_count": 11,
   "metadata": {},
   "outputs": [
    {
     "name": "stdout",
     "output_type": "stream",
     "text": [
      "<class 'pandas.core.frame.DataFrame'>\n",
      "Int64Index: 2970 entries, 1 to 2970\n",
      "Columns: 4000 entries, 0 to 3999\n",
      "dtypes: float64(4000)\n",
      "memory usage: 90.7 MB\n"
     ]
    }
   ],
   "source": [
    "#Tratamento do dataset - Verificar tipo de dados\n",
    "new_data.info()"
   ]
  },
  {
   "cell_type": "code",
   "execution_count": 24,
   "metadata": {
    "id": "cEJzGjGxN2xP"
   },
   "outputs": [],
   "source": [
    "#Definindo dados de treinamento\n",
    "X_train = new_data\n",
    "\n",
    "y_train = []\n",
    "for i in range(2970):\n",
    "    y = 0 if i < 660 else 1\n",
    "    y_train.append(y)"
   ]
  },
  {
   "cell_type": "code",
   "execution_count": 25,
   "metadata": {
    "id": "uVrQmdhhOgDC"
   },
   "outputs": [],
   "source": [
    "#Aplicar a regressão logística\n",
    "classificador = LogisticRegression(solver='newton-cg').fit(X_train, y_train)"
   ]
  },
  {
   "cell_type": "code",
   "execution_count": 26,
   "metadata": {
    "colab": {
     "base_uri": "https://localhost:8080/"
    },
    "id": "ZUWUiUmZQaNA",
    "outputId": "7e7dbe71-11fd-4638-fe74-2fd06b8d01f7"
   },
   "outputs": [
    {
     "data": {
      "text/plain": [
       "array([0, 0, 0, ..., 1, 1, 1])"
      ]
     },
     "execution_count": 26,
     "metadata": {},
     "output_type": "execute_result"
    }
   ],
   "source": [
    "classificador.predict(X_train)"
   ]
  },
  {
   "cell_type": "code",
   "execution_count": 27,
   "metadata": {
    "colab": {
     "base_uri": "https://localhost:8080/"
    },
    "id": "doE7bC5xQnC9",
    "outputId": "43ef144c-24cd-4c3d-8209-fe518f732962"
   },
   "outputs": [
    {
     "data": {
      "text/plain": [
       "array([[9.99999912e-01, 8.81922483e-08],\n",
       "       [9.99999979e-01, 2.06220027e-08],\n",
       "       [9.99999983e-01, 1.65568697e-08],\n",
       "       ...,\n",
       "       [6.62929238e-08, 9.99999934e-01],\n",
       "       [7.47519975e-08, 9.99999925e-01],\n",
       "       [3.92768151e-08, 9.99999961e-01]])"
      ]
     },
     "execution_count": 27,
     "metadata": {},
     "output_type": "execute_result"
    }
   ],
   "source": [
    "classificador.predict_proba(X_train)"
   ]
  },
  {
   "cell_type": "code",
   "execution_count": 28,
   "metadata": {
    "colab": {
     "base_uri": "https://localhost:8080/"
    },
    "id": "GkiRokRPOvDP",
    "outputId": "7bd10a28-ff6d-4f12-ff29-31bdf1e3326b"
   },
   "outputs": [
    {
     "data": {
      "text/plain": [
       "1.0"
      ]
     },
     "execution_count": 28,
     "metadata": {},
     "output_type": "execute_result"
    }
   ],
   "source": [
    "#Resultado\n",
    "classificador.score(X_train, y_train)"
   ]
  },
  {
   "cell_type": "code",
   "execution_count": 29,
   "metadata": {
    "colab": {
     "base_uri": "https://localhost:8080/",
     "height": 284
    },
    "id": "-zmCVqRrsF-V",
    "outputId": "76164353-9762-4fa7-8d2e-20eac2046c69"
   },
   "outputs": [
    {
     "data": {
      "text/plain": [
       "<AxesSubplot:>"
      ]
     },
     "execution_count": 29,
     "metadata": {},
     "output_type": "execute_result"
    },
    {
     "data": {
      "image/png": "[encoded data removed]",
      "text/plain": [
       "<Figure size 432x288 with 1 Axes>"
      ]
     },
     "metadata": {
      "needs_background": "light"
     },
     "output_type": "display_data"
    }
   ],
   "source": [
    "#Matriz de confusão\n",
    "mc = confusion_matrix(y_train, classificador.predict(X_train))\n",
    "sns.heatmap(mc, square=True, annot=True, cmap='Blues', fmt='d', cbar=False)"
   ]
  },
  {
   "cell_type": "code",
   "execution_count": null,
   "metadata": {},
   "outputs": [],
   "source": []
  }
 ],
 "metadata": {
  "colab": {
   "collapsed_sections": [],
   "name": "Aplicacao_RL_PZT.ipynb",
   "provenance": []
  },
  "kernelspec": {
   "display_name": "Python 3 (ipykernel)",
   "language": "python",
   "name": "python3"
  },
  "language_info": {
   "codemirror_mode": {
    "name": "ipython",
    "version": 3
   },
   "file_extension": ".py",
   "mimetype": "text/x-python",
   "name": "python",
   "nbconvert_exporter": "python",
   "pygments_lexer": "ipython3",
   "version": "3.9.12"
  }
 },
 "nbformat": 4,
 "nbformat_minor": 1
}
